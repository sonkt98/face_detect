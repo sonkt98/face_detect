{
 "cells": [
  {
   "cell_type": "code",
   "execution_count": 6,
   "metadata": {},
   "outputs": [
    {
     "name": "stdout",
     "output_type": "stream",
     "text": [
      "face exist\n",
      "[[1]]\n"
     ]
    }
   ],
   "source": [
    "from keras.models import load_model\n",
    "import cv2\n",
    "import numpy as np\n",
    "\n",
    "\n",
    "model = load_model('인공지능론 과제.h5')\n",
    "\n",
    "image_file = \"C:/123.bmp\"\n",
    "cascade_file = \"haarcascade_frontalface_alt.xml\"\n",
    "    \n",
    "\n",
    "image = cv2.imread(image_file)\n",
    "  \n",
    "\n",
    "cascade = cv2.CascadeClassifier(cascade_file)\n",
    "face_list = cascade.detectMultiScale(image,scaleFactor = 1.1, minNeighbors = 1, minSize = (150, 150))\n",
    "\n",
    "if len(face_list) > 0:\n",
    "     print(\"face exist\")\n",
    "     for (x,y,w,h) in face_list:\n",
    "         cropped = image[y:y + h, x:x + w]\n",
    "         cv2.imwrite(\"face image.png\", cropped)\n",
    "           \n",
    "    \n",
    "else:\n",
    "    print(\"no face\")\n",
    "\n",
    "img = cv2.imread('face image.png')    \n",
    "img = cv2.resize(img,(64,64))\n",
    "img = np.reshape(img,[1,64,64,3])\n",
    "\n",
    "classes = model.predict_classes(img)\n",
    "\n",
    "print (classes)"
   ]
  },
  {
   "cell_type": "code",
   "execution_count": null,
   "metadata": {},
   "outputs": [],
   "source": []
  }
 ],
 "metadata": {
  "kernelspec": {
   "display_name": "Python 3",
   "language": "python",
   "name": "python3"
  },
  "language_info": {
   "codemirror_mode": {
    "name": "ipython",
    "version": 3
   },
   "file_extension": ".py",
   "mimetype": "text/x-python",
   "name": "python",
   "nbconvert_exporter": "python",
   "pygments_lexer": "ipython3",
   "version": "3.6.7"
  }
 },
 "nbformat": 4,
 "nbformat_minor": 2
}
